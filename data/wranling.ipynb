{
 "cells": [
  {
   "cell_type": "markdown",
   "metadata": {},
   "source": [
    "# ENEI-2022: Data wrangling"
   ]
  },
  {
   "cell_type": "code",
   "execution_count": null,
   "metadata": {},
   "outputs": [],
   "source": [
    "import os\n",
    "import json\n",
    "import pandas as pd\n",
    "from typing import Tuple\n",
    "from janitor import clean_names\n",
    "\n",
    "pd.set_option(\"display.max_columns\", None)"
   ]
  },
  {
   "cell_type": "markdown",
   "metadata": {},
   "source": [
    "## Import data"
   ]
  },
  {
   "cell_type": "code",
   "execution_count": null,
   "metadata": {},
   "outputs": [],
   "source": [
    "def load_data(path: str) -> Tuple[pd.DataFrame]:\n",
    "    survey = pd.read_excel(os.path.join(path, \"enei.xlsx\"))\n",
    "    features = pd.read_excel(os.path.join(path, \"dict.xlsx\"), skiprows=4).iloc[:318, :]\n",
    "    factors = pd.read_excel(os.path.join(path, \"dict.xlsx\"), skiprows=326)\n",
    "    return clean_names(survey), clean_names(features), clean_names(factors)\n",
    "\n",
    "survey_raw, features_raw, factors_raw = load_data(path=os.path.join(os.getcwd(), \"raw\"))"
   ]
  },
  {
   "cell_type": "markdown",
   "metadata": {},
   "source": [
    "## Filter surveys by the proportion of nans in columns"
   ]
  },
  {
   "cell_type": "code",
   "execution_count": null,
   "metadata": {},
   "outputs": [],
   "source": [
    "def remove_columns_with_nans(df, beta):\n",
    "    nan_proportion = df.isna().mean()\n",
    "    columns_to_drop = nan_proportion[nan_proportion >= beta].index\n",
    "    df_filtered = df.drop(columns=columns_to_drop)\n",
    "    return df_filtered\n",
    "\n",
    "survey_filtered = remove_columns_with_nans(survey_raw, 0.2).dropna(axis=0)\n",
    "survey_filtered"
   ]
  },
  {
   "cell_type": "markdown",
   "metadata": {},
   "source": [
    "## Take a look: what features are we dropping?"
   ]
  },
  {
   "cell_type": "code",
   "execution_count": null,
   "metadata": {},
   "outputs": [],
   "source": [
    "features = (\n",
    "    features_raw\n",
    "    .assign(\n",
    "        nombre_de_la_variable = lambda x: x.nombre_de_la_variable.str.lower(),\n",
    "        etiqueta_de_la_variable = lambda x: x.etiqueta_de_la_variable.str.lower()\n",
    "    )\n",
    "    .drop('posicion', axis=1)\n",
    ")\n",
    "\n",
    "features_description = dict(zip(features['nombre_de_la_variable'], features['etiqueta_de_la_variable']))"
   ]
  },
  {
   "cell_type": "code",
   "execution_count": null,
   "metadata": {},
   "outputs": [],
   "source": [
    "filtered_features_description = {key: value for key, value in features_description.items() if key in list(survey_filtered.columns)}\n",
    "dropped_features_description = {key: value for key, value in features_description.items() if key not in list(survey_filtered.columns)}\n",
    "\n",
    "names_and_dicts = {\n",
    "    'filtered_features_description': filtered_features_description,\n",
    "    'dropped_features_description': dropped_features_description\n",
    "}\n",
    "\n",
    "path = os.path.join(os.getcwd(), \"features\")\n",
    "os.makedirs(path, exist_ok=True)\n",
    "\n",
    "for name, dictionary in names_and_dicts.items():\n",
    "    with open(os.path.join(os.getcwd(), \"features\", f\"{name}.json\"), \"w\") as file:\n",
    "        json.dump(dictionary, file, ensure_ascii=False, indent=4)"
   ]
  },
  {
   "cell_type": "markdown",
   "metadata": {},
   "source": [
    "## I still need a way to map label encodings with factor levels"
   ]
  },
  {
   "cell_type": "code",
   "execution_count": null,
   "metadata": {},
   "outputs": [],
   "source": [
    "survey_raw"
   ]
  },
  {
   "cell_type": "code",
   "execution_count": null,
   "metadata": {},
   "outputs": [],
   "source": [
    "factors = (\n",
    "    factors_raw\n",
    "    .assign(nombre_de_la_variable = lambda x: x.nombre_de_la_variable.ffill())\n",
    "    .assign(\n",
    "        nombre_de_la_variable = lambda x: x.nombre_de_la_variable.str.lower(),\n",
    "        etiqueta = lambda x: x.etiqueta.str.lower()\n",
    "    )\n",
    ")\n",
    "\n",
    "factors"
   ]
  },
  {
   "cell_type": "code",
   "execution_count": null,
   "metadata": {},
   "outputs": [],
   "source": [
    "features_with_mapped_levels = []\n",
    "\n",
    "for feature_name in factors.nombre_de_la_variable.unique():\n",
    "    try:\n",
    "        feature_levels_df = (\n",
    "            factors\n",
    "            .query(f\"nombre_de_la_variable == '{feature_name}'\")\n",
    "            .drop(\"nombre_de_la_variable\", axis=1)\n",
    "        )\n",
    "        feature_levels_dict = dict(feature_levels_df.set_index('valor')['etiqueta'])\n",
    "        mapped_feature = (\n",
    "            survey_raw[f\"{feature_name}\"].map(feature_levels_dict)\n",
    "        )\n",
    "        features_with_mapped_levels.append(mapped_feature)\n",
    "    except KeyError:\n",
    "        pass\n",
    "\n",
    "survey_with_levels = pd.concat(features_with_mapped_levels, axis=1)"
   ]
  },
  {
   "cell_type": "code",
   "execution_count": null,
   "metadata": {},
   "outputs": [],
   "source": [
    "survey_with_levels"
   ]
  }
 ],
 "metadata": {
  "kernelspec": {
   "display_name": ".venv",
   "language": "python",
   "name": "python3"
  },
  "language_info": {
   "codemirror_mode": {
    "name": "ipython",
    "version": 3
   },
   "file_extension": ".py",
   "mimetype": "text/x-python",
   "name": "python",
   "nbconvert_exporter": "python",
   "pygments_lexer": "ipython3",
   "version": "3.12.4"
  }
 },
 "nbformat": 4,
 "nbformat_minor": 2
}
